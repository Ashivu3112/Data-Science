{
 "cells": [
  {
   "cell_type": "code",
   "execution_count": 17,
   "id": "5ff0a7ed-1b7c-432e-bdf1-41f1ccd1b0fa",
   "metadata": {},
   "outputs": [],
   "source": [
    "import numpy as np\n",
    "from sklearn.model_selection import train_test_split"
   ]
  },
  {
   "cell_type": "code",
   "execution_count": 13,
   "id": "41dd49bc-3b91-4d29-98fc-a4b70a905f18",
   "metadata": {},
   "outputs": [
    {
     "data": {
      "text/plain": [
       "array([  1,   2,   3,   4,   5,   6,   7,   8,   9,  10,  11,  12,  13,\n",
       "        14,  15,  16,  17,  18,  19,  20,  21,  22,  23,  24,  25,  26,\n",
       "        27,  28,  29,  30,  31,  32,  33,  34,  35,  36,  37,  38,  39,\n",
       "        40,  41,  42,  43,  44,  45,  46,  47,  48,  49,  50,  51,  52,\n",
       "        53,  54,  55,  56,  57,  58,  59,  60,  61,  62,  63,  64,  65,\n",
       "        66,  67,  68,  69,  70,  71,  72,  73,  74,  75,  76,  77,  78,\n",
       "        79,  80,  81,  82,  83,  84,  85,  86,  87,  88,  89,  90,  91,\n",
       "        92,  93,  94,  95,  96,  97,  98,  99, 100])"
      ]
     },
     "execution_count": 13,
     "metadata": {},
     "output_type": "execute_result"
    }
   ],
   "source": [
    "a = np.arange(1,101)\n",
    "a"
   ]
  },
  {
   "cell_type": "code",
   "execution_count": 15,
   "id": "bed899a3-5616-429b-8640-5be065eeb9c3",
   "metadata": {},
   "outputs": [
    {
     "data": {
      "text/plain": [
       "array([501, 502, 503, 504, 505, 506, 507, 508, 509, 510, 511, 512, 513,\n",
       "       514, 515, 516, 517, 518, 519, 520, 521, 522, 523, 524, 525, 526,\n",
       "       527, 528, 529, 530, 531, 532, 533, 534, 535, 536, 537, 538, 539,\n",
       "       540, 541, 542, 543, 544, 545, 546, 547, 548, 549, 550, 551, 552,\n",
       "       553, 554, 555, 556, 557, 558, 559, 560, 561, 562, 563, 564, 565,\n",
       "       566, 567, 568, 569, 570, 571, 572, 573, 574, 575, 576, 577, 578,\n",
       "       579, 580, 581, 582, 583, 584, 585, 586, 587, 588, 589, 590, 591,\n",
       "       592, 593, 594, 595, 596, 597, 598, 599, 600])"
      ]
     },
     "execution_count": 15,
     "metadata": {},
     "output_type": "execute_result"
    }
   ],
   "source": [
    "b = np.arange(501, 601)\n",
    "b"
   ]
  },
  {
   "cell_type": "code",
   "execution_count": null,
   "id": "4a675a60-27ff-4ea9-9bdf-607f2257a32e",
   "metadata": {},
   "outputs": [],
   "source": [
    "# difference between range and arange is that arange returns an array of elements while range returns list of elements"
   ]
  },
  {
   "cell_type": "code",
   "execution_count": 49,
   "id": "acb6399b-ff80-41ea-b7ac-df0ea75331cb",
   "metadata": {},
   "outputs": [
    {
     "data": {
      "text/plain": [
       "(array([ 57,  87,  59,  15,  72,  27,  13,  85,  11,  39,  61,   6,  33,\n",
       "         32,  42,  45,  64,  37,  67,   9,  75,  68,  99,  29,  84,  81,\n",
       "         70,   4,   7,   8,  73,  43,  50,  35,   1,  89,  26,  76,  19,\n",
       "          3,  25,  30,  90,  79,  31,  58,  41,  18,  95,  54,  69,  55,\n",
       "         93,  23,  65,  16,   2,  96,  44,  62,  51,  88,  49,  10,  48,\n",
       "         24,  40,   5,  74,  21,  56,  28,  60,  20,  98,  77,  97,  83,\n",
       "        100,  14]),\n",
       " array([71, 94, 17, 80, 82, 36, 78, 92, 52, 34, 47, 66, 63, 22, 12, 91, 86,\n",
       "        38, 46, 53]))"
      ]
     },
     "execution_count": 49,
     "metadata": {},
     "output_type": "execute_result"
    }
   ],
   "source": [
    "a_train, a_test = train_test_split(a, test_size = 0.2, random_state = 425, shuffle = True)\n",
    "a_train , a_test"
   ]
  },
  {
   "cell_type": "code",
   "execution_count": 79,
   "id": "444a4b55-e8f9-4d0a-8986-5fe7c3ef3ecd",
   "metadata": {},
   "outputs": [],
   "source": [
    "total = train_test_split(a, b, test_size = 0.2, shuffle = False)"
   ]
  },
  {
   "cell_type": "code",
   "execution_count": 81,
   "id": "fde7907b-e49e-4b7c-825c-2f3120eac528",
   "metadata": {},
   "outputs": [
    {
     "data": {
      "text/plain": [
       "(array([ 1,  2,  3,  4,  5,  6,  7,  8,  9, 10, 11, 12, 13, 14, 15, 16, 17,\n",
       "        18, 19, 20, 21, 22, 23, 24, 25, 26, 27, 28, 29, 30, 31, 32, 33, 34,\n",
       "        35, 36, 37, 38, 39, 40, 41, 42, 43, 44, 45, 46, 47, 48, 49, 50, 51,\n",
       "        52, 53, 54, 55, 56, 57, 58, 59, 60, 61, 62, 63, 64, 65, 66, 67, 68,\n",
       "        69, 70, 71, 72, 73, 74, 75, 76, 77, 78, 79, 80]),\n",
       " array([ 81,  82,  83,  84,  85,  86,  87,  88,  89,  90,  91,  92,  93,\n",
       "         94,  95,  96,  97,  98,  99, 100]))"
      ]
     },
     "execution_count": 81,
     "metadata": {},
     "output_type": "execute_result"
    }
   ],
   "source": [
    "a_train = total[0]\n",
    "a_test = total[1]\n",
    "\n",
    "b_train = total[2]\n",
    "b_test = total[3]\n",
    "\n",
    "a_train, a_test"
   ]
  },
  {
   "cell_type": "code",
   "execution_count": 83,
   "id": "8c351fa8-3d9d-4027-8bc0-8fd3e5a3c823",
   "metadata": {},
   "outputs": [
    {
     "data": {
      "text/plain": [
       "(array([501, 502, 503, 504, 505, 506, 507, 508, 509, 510, 511, 512, 513,\n",
       "        514, 515, 516, 517, 518, 519, 520, 521, 522, 523, 524, 525, 526,\n",
       "        527, 528, 529, 530, 531, 532, 533, 534, 535, 536, 537, 538, 539,\n",
       "        540, 541, 542, 543, 544, 545, 546, 547, 548, 549, 550, 551, 552,\n",
       "        553, 554, 555, 556, 557, 558, 559, 560, 561, 562, 563, 564, 565,\n",
       "        566, 567, 568, 569, 570, 571, 572, 573, 574, 575, 576, 577, 578,\n",
       "        579, 580]),\n",
       " array([581, 582, 583, 584, 585, 586, 587, 588, 589, 590, 591, 592, 593,\n",
       "        594, 595, 596, 597, 598, 599, 600]))"
      ]
     },
     "execution_count": 83,
     "metadata": {},
     "output_type": "execute_result"
    }
   ],
   "source": [
    "b_train, b_test"
   ]
  },
  {
   "cell_type": "code",
   "execution_count": null,
   "id": "4e80171e-9851-40d3-9ed7-a11c2caa7b3d",
   "metadata": {},
   "outputs": [],
   "source": []
  }
 ],
 "metadata": {
  "kernelspec": {
   "display_name": "Python [conda env:base] *",
   "language": "python",
   "name": "conda-base-py"
  },
  "language_info": {
   "codemirror_mode": {
    "name": "ipython",
    "version": 3
   },
   "file_extension": ".py",
   "mimetype": "text/x-python",
   "name": "python",
   "nbconvert_exporter": "python",
   "pygments_lexer": "ipython3",
   "version": "3.12.7"
  }
 },
 "nbformat": 4,
 "nbformat_minor": 5
}
